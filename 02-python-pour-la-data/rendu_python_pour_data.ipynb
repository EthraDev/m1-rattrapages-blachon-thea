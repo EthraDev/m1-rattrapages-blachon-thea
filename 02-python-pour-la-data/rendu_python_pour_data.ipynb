{
 "cells": [
  {
   "cell_type": "code",
   "execution_count": 1,
   "id": "c1cd1f1e",
   "metadata": {},
   "outputs": [
    {
     "data": {
      "text/html": [
       "        <script type=\"text/javascript\">\n",
       "        window.PlotlyConfig = {MathJaxConfig: 'local'};\n",
       "        if (window.MathJax && window.MathJax.Hub && window.MathJax.Hub.Config) {window.MathJax.Hub.Config({SVG: {font: \"STIX-Web\"}});}\n",
       "        </script>\n",
       "        <script type=\"module\">import \"https://cdn.plot.ly/plotly-3.1.0.min\"</script>\n",
       "        "
      ]
     },
     "metadata": {},
     "output_type": "display_data"
    }
   ],
   "source": [
    "#import des bibliothèques\n",
    "\n",
    "import pandas as pd\n",
    "import matplotlib.pyplot as plt\n",
    "import seaborn as sns\n",
    "from plotly.offline import init_notebook_mode\n",
    "import matplotlib.pyplot as plt\n",
    "init_notebook_mode(connected=True)"
   ]
  },
  {
   "cell_type": "code",
   "execution_count": null,
   "id": "7a4b9a0c",
   "metadata": {},
   "outputs": [],
   "source": [
    "#importation des datasets\n",
    "\n",
    "stress_dataset = pd.read_csv('Stress_Dataset.csv', sep=',', low_memory=False)\n",
    "stress_level_dataset = pd.read_csv('StressLevelDataset.csv', sep=',', low_memory=False)\n",
    "\n",
    "#On nettoie les données pour n'avoir que des personnes entre 18 et 25 ans, soit l'âge moyen des étudiants\n",
    "stress_dataset = stress_dataset[stress_dataset[\"Age\"] < 26 ]\n",
    "stress_dataset = stress_dataset[stress_dataset[\"Age\"] > 17]\n",
    "\n",
    "\n",
    "#Remplacement des valeurs Gender par Male ou Female\n",
    "stress_dataset[\"Gender\"] = stress_dataset[\"Gender\"].replace({0:'Male', 1:'Female'})"
   ]
  },
  {
   "cell_type": "code",
   "execution_count": null,
   "id": "10d825f7",
   "metadata": {},
   "outputs": [],
   "source": [
    "#Affichage des 10 premières lignes du dataset 1\n",
    "stress_dataset.head(10)"
   ]
  },
  {
   "cell_type": "code",
   "execution_count": null,
   "id": "df1837d0",
   "metadata": {},
   "outputs": [],
   "source": [
    "# Analyse Simple du dataset Stress_Dataset.csv\n",
    "\n",
    "print(\"Toutes les notes sont comprises entre 0 et 5 \\n \\n\")\n",
    "print(\"Pourcentage d'hommes répondant au questionnaire:\", round((stress_dataset[\"Gender\"].value_counts(normalize=True)[\"Male\"])*100, 2), \"%\")\n",
    "print(\"Pourcentage de femmes répondant au questionnaire:\", round((stress_dataset[\"Gender\"].value_counts(normalize=True)[\"Female\"])*100, 2), \"% \\n\")\n",
    "print(\"Moyenne d'âge des personnes interrogées:\", round(stress_dataset[\"Age\"].mean(), 0), \"ans\")\n",
    "print(\"Ecart type d'âge des personnes interrogées:\", round(stress_dataset[\"Age\"].std(), 0), \"ans \\n\")\n",
    "print(\"Moyenne taux de stress ressenti par les étudiants:\", round(stress_dataset[\"Have you recently experienced stress in your life?\"].mean(), 3), \"\\n\")\n",
    "moyennes = stress_dataset.groupby(\"Gender\")[\"Have you recently experienced stress in your life?\"].mean()\n",
    "print(\"Moyenne taux de stress ressenti par les étudiants en fonction du genre:\")\n",
    "for genre, valeur in moyennes.items():\n",
    "    print(f\"{genre}: {round(valeur, 3)}\")\n",
    "moyennes = stress_dataset.groupby(\"Age\")[\"Have you recently experienced stress in your life?\"].mean()\n",
    "print(\"\\nMoyenne niveau de stress par age:\")\n",
    "for age, valeur in moyennes.items():\n",
    "    print(f\"{age} ans: {round(valeur, 3)}\")\n",
    "print(\"\\n\")\n",
    "print(\"Moyenne problèmes de sommeil ressenti par les étudiants:\", round(stress_dataset[\"Do you face any sleep problems or difficulties falling asleep?\"].mean(), 3), \"\\n\")\n",
    "\n",
    "moyennes = stress_dataset.groupby(\"Age\")[\"Do you face any sleep problems or difficulties falling asleep?\"].mean()\n",
    "print(\"Moyenne problèmes de sommeil par age:\")\n",
    "for age, valeur in moyennes.items():\n",
    "    print(f\"{age} ans: {round(valeur, 3)}\")\n",
    "print(\"\\n\")\n",
    "moyennes = (stress_dataset[\"Which type of stress do you primarily experience?\"].value_counts(normalize=True))*100\n",
    "print(\"Pourcentage type de stress ressenti par les étudiants:\")\n",
    "for type_stress, valeur in moyennes.items():\n",
    "    print(f\"{type_stress}: {round(valeur, 2)} %\")\n"
   ]
  }
 ],
 "metadata": {
  "kernelspec": {
   "display_name": "Python 3",
   "language": "python",
   "name": "python3"
  },
  "language_info": {
   "codemirror_mode": {
    "name": "ipython",
    "version": 3
   },
   "file_extension": ".py",
   "mimetype": "text/x-python",
   "name": "python",
   "nbconvert_exporter": "python",
   "pygments_lexer": "ipython3",
   "version": "3.12.0"
  }
 },
 "nbformat": 4,
 "nbformat_minor": 5
}
