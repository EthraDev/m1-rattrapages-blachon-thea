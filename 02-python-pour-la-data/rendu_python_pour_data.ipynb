{
 "cells": [
  {
   "cell_type": "code",
   "execution_count": 1,
   "id": "c1cd1f1e",
   "metadata": {},
   "outputs": [
    {
     "data": {
      "text/html": [
       "        <script type=\"text/javascript\">\n",
       "        window.PlotlyConfig = {MathJaxConfig: 'local'};\n",
       "        if (window.MathJax && window.MathJax.Hub && window.MathJax.Hub.Config) {window.MathJax.Hub.Config({SVG: {font: \"STIX-Web\"}});}\n",
       "        </script>\n",
       "        <script type=\"module\">import \"https://cdn.plot.ly/plotly-3.1.0.min\"</script>\n",
       "        "
      ]
     },
     "metadata": {},
     "output_type": "display_data"
    }
   ],
   "source": [
    "#import des bibliothèques\n",
    "\n",
    "import pandas as pd\n",
    "import matplotlib.pyplot as plt\n",
    "import seaborn as sns\n",
    "from plotly.offline import init_notebook_mode\n",
    "import matplotlib.pyplot as plt\n",
    "init_notebook_mode(connected=True)"
   ]
  },
  {
   "cell_type": "code",
   "execution_count": null,
   "id": "7a4b9a0c",
   "metadata": {},
   "outputs": [],
   "source": [
    "#importation des datasets\n",
    "\n",
    "stress_dataset = pd.read_csv('Stress_Dataset.csv', sep=',', low_memory=False)\n",
    "stress_level_dataset = pd.read_csv('StressLevelDataset.csv', sep=',', low_memory=False)\n",
    "\n",
    "#On nettoie les données pour n'avoir que des personnes entre 18 et 25 ans, soit l'âge moyen des étudiants\n",
    "stress_dataset = stress_dataset[stress_dataset[\"Age\"] < 26 ]\n",
    "stress_dataset = stress_dataset[stress_dataset[\"Age\"] > 17]\n",
    "\n",
    "\n",
    "#Remplacement des valeurs Gender par Male ou Female\n",
    "stress_dataset[\"Gender\"] = stress_dataset[\"Gender\"].replace({0:'Male', 1:'Female'})"
   ]
  },
  {
   "cell_type": "code",
   "execution_count": null,
   "id": "10d825f7",
   "metadata": {},
   "outputs": [],
   "source": [
    "#Affichage des 10 premières lignes du dataset 1\n",
    "stress_dataset.head(10)"
   ]
  }
 ],
 "metadata": {
  "kernelspec": {
   "display_name": "Python 3",
   "language": "python",
   "name": "python3"
  },
  "language_info": {
   "codemirror_mode": {
    "name": "ipython",
    "version": 3
   },
   "file_extension": ".py",
   "mimetype": "text/x-python",
   "name": "python",
   "nbconvert_exporter": "python",
   "pygments_lexer": "ipython3",
   "version": "3.12.0"
  }
 },
 "nbformat": 4,
 "nbformat_minor": 5
}
